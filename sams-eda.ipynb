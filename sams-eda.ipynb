{
 "cells": [
  {
   "cell_type": "code",
   "execution_count": 6,
   "metadata": {},
   "outputs": [
    {
     "name": "stdout",
     "output_type": "stream",
     "text": [
      "cpu\n",
      "float64\n"
     ]
    }
   ],
   "source": [
    "%matplotlib inline\n",
    "\n",
    "import numpy as np\n",
    "import pandas as pd\n",
    "from sklearn.datasets import fetch_openml\n",
    "from sklearn.metrics import classification_report\n",
    "from sklearn.neighbors import KNeighborsClassifier\n",
    "import time\n",
    "\n",
    "import warnings\n",
    "warnings.filterwarnings('ignore')\n",
    "\n",
    "import theano \n",
    "from theano import tensor as T\n",
    "from theano.sandbox.rng_mrg import MRG_RandomStreams as RandomStreams\n",
    "print(theano.config.device) # We're using CPUs (for now)\n",
    "print(theano.config.floatX) # Should be 64 bit for CPUs\n",
    "\n",
    "np.random.seed(0)"
   ]
  },
  {
   "cell_type": "code",
   "execution_count": 29,
   "metadata": {},
   "outputs": [
    {
     "name": "stdout",
     "output_type": "stream",
     "text": [
      "Dev size: 3024\n",
      "Train size: 12096\n",
      "Features: 56\n",
      "Classes: 10\n"
     ]
    }
   ],
   "source": [
    "train = pd.read_csv(\"data/train.csv\")\n",
    "X = np.array(train)\n",
    "Y = np.array(np.array(train[\"Cover_Type\"].tolist()))\n",
    "n = X.shape[0]\n",
    "\n",
    "shuffle = np.random.permutation(np.arange(n))\n",
    "X, Y = X[shuffle], Y[shuffle]\n",
    "\n",
    "percent_in_dev = .2\n",
    "dev_slice = int(percent_in_dev * n)\n",
    "\n",
    "# Set some variables to hold test, dev, and training data.\n",
    "dev_dat, dev_lab = X[:dev_slice], Y[:dev_slice]\n",
    "train_dat, train_lab = X[dev_slice:], Y[dev_slice:]\n",
    "# train_df = train.iloc[shuffle,:].iloc[dev_slice: , :]\n",
    "\n",
    "n_dev = dev_dat.shape[0]\n",
    "n_train = train_dat.shape[0]\n",
    "n_feat = train_dat.shape[1]\n",
    "\n",
    "def binarizeY(data):\n",
    "    binarized_data = np.zeros((data.size,10))\n",
    "    for j in range(0,data.size):\n",
    "        feature = data[j:j+1]\n",
    "        i = feature.astype(np.int64) \n",
    "        binarized_data[j,i]=1\n",
    "    return binarized_data\n",
    "\n",
    "train_lab_b = binarizeY(train_lab)\n",
    "dev_lab_b = binarizeY(dev_labels)\n",
    "n_class = train_lab_b[1].size\n",
    "\n",
    "print(f'Dev size: {n_dev}')\n",
    "print(f'Train size: {n_train}')\n",
    "print(f'Features: {n_feat}')\n",
    "print(f'Classes: {n_class}')"
   ]
  },
  {
   "cell_type": "code",
   "execution_count": 73,
   "metadata": {},
   "outputs": [
    {
     "name": "stdout",
     "output_type": "stream",
     "text": [
      "1) accuracy = 0.0000\n",
      "2) accuracy = 0.0000\n",
      "3) accuracy = 0.0000\n",
      "4) accuracy = 0.0000\n",
      "5) accuracy = 0.0000\n",
      "6) accuracy = 0.0000\n",
      "7) accuracy = 0.0000\n",
      "8) accuracy = 0.0000\n",
      "9) accuracy = 0.0000\n",
      "10) accuracy = 0.0000\n",
      "train time = 67.25\n",
      "predict time = 0.00\n"
     ]
    }
   ],
   "source": [
    "## (1) Parameters\n",
    "n_hidden_nodes = 50 \n",
    "w_1 = theano.shared(np.asarray((np.random.randn(*(n_feat, n_hidden_nodes))*.01)))\n",
    "w_2 = theano.shared(np.asarray((np.random.randn(*(n_hidden_nodes, n_hidden_nodes))*.01)))\n",
    "w_3 = theano.shared(np.asarray((np.random.randn(*(n_hidden_nodes, n_class))*.01)))\n",
    "params = [w_1, w_2, w_3]\n",
    "\n",
    "\n",
    "## (2) Model\n",
    "X = T.matrix()\n",
    "Y = T.matrix()\n",
    "# Two notes:\n",
    "# First, feed forward is the composition of layers (dot product + activation function)\n",
    "# Second, activation on the hidden layer still uses sigmoid\n",
    "def model(X, w_1, w_2, w_3):\n",
    "    rectifier = lambda first_layer, second_layer : T.nnet.relu(T.dot(first_layer, second_layer))\n",
    "    X_w_1 = rectifier(X, w_1)\n",
    "    w_1_2 = rectifier(X_w_1, w_2)\n",
    "    w_2_3 = rectifier(w_1_2, w_3)\n",
    "    return T.nnet.softmax(w_2_3)\n",
    "y_hat = model(X, w_1, w_2, w_3)\n",
    "\n",
    "\n",
    "## (3) Cost...same as logistic regression\n",
    "cost = T.mean(T.nnet.categorical_crossentropy(y_hat, Y))\n",
    "\n",
    "\n",
    "## (4) Minimization.  Update rule changes to backpropagation.\n",
    "alpha = 0.01\n",
    "def backprop(cost, w):\n",
    "    grads = T.grad(cost=cost, wrt=w)\n",
    "    updates = []\n",
    "    for w1, grad in zip(w, grads):\n",
    "        updates.append([w1, w1 - grad * alpha])\n",
    "    return updates\n",
    "update = backprop(cost, params)\n",
    "train = theano.function(inputs=[X, Y], outputs=cost, updates=update, allow_input_downcast=True)\n",
    "y_pred = T.argmax(y_hat, axis=1)\n",
    "predict = theano.function(inputs=[X], outputs=y_pred, allow_input_downcast=True)\n",
    "\n",
    "miniBatchSize = 1\n",
    "def gradientDescentStochastic(epochs):\n",
    "    trainTime = 0.0\n",
    "    predictTime = 0.0\n",
    "    start_time = time.time()\n",
    "    for i in range(epochs):\n",
    "        for start, end in zip(range(0, n_train, miniBatchSize), range(miniBatchSize, n_train, miniBatchSize)):\n",
    "            cost = train(train_dat[start:end], train_lab_b[start:end])\n",
    "        trainTime =  trainTime + (time.time() - start_time)\n",
    "        print('%d) accuracy = %.4f' %(i+1, np.mean(np.argmax(dev_lab_b, axis=1) == predict(dev_dat))))\n",
    "    print('train time = %.2f' %(trainTime))\n",
    "\n",
    "gradientDescentStochastic(10)\n",
    "\n",
    "start_time = time.time()\n",
    "predict(dev_dat)   \n",
    "print('predict time = %.2f' %(time.time() - start_time))"
   ]
  }
 ],
 "metadata": {
  "interpreter": {
   "hash": "6e154723739a62da1ddbb97cffcb1928f4621ae866510e1af6fff45adbf967f5"
  },
  "kernelspec": {
   "display_name": "Python 3.10.0 64-bit",
   "language": "python",
   "name": "python3"
  },
  "language_info": {
   "codemirror_mode": {
    "name": "ipython",
    "version": 3
   },
   "file_extension": ".py",
   "mimetype": "text/x-python",
   "name": "python",
   "nbconvert_exporter": "python",
   "pygments_lexer": "ipython3",
   "version": "3.9.7"
  },
  "orig_nbformat": 4
 },
 "nbformat": 4,
 "nbformat_minor": 2
}
